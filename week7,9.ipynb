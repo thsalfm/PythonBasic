{
 "cells": [
  {
   "cell_type": "code",
   "execution_count": null,
   "metadata": {},
   "outputs": [],
   "source": [
    "#1\n",
    "SUM=0\n",
    "for i in range(1,101):\n",
    "    SUM+=i\n",
    "print(SUM)"
   ]
  },
  {
   "cell_type": "code",
   "execution_count": null,
   "metadata": {},
   "outputs": [],
   "source": [
    "#2\n",
    "import sys\n",
    "MAX = -sys.maxsize-1\n",
    "MIN = sys.maxsize\n",
    "num = [8,7,3,2,9,4,1,6,5]\n",
    "for i in num:\n",
    "    if MAX<i:\n",
    "        MAX=i\n",
    "    if MIN>i:\n",
    "        MIN=i\n",
    "print(MAX,MIN)"
   ]
  },
  {
   "cell_type": "code",
   "execution_count": null,
   "metadata": {},
   "outputs": [],
   "source": [
    "#3.\n",
    "even_sum=0\n",
    "odd_sum=0\n",
    "for i in range(1,101):\n",
    "    if i%2==0:\n",
    "        even_sum+=i\n",
    "    else:\n",
    "        odd_sum+=i\n",
    "\n",
    "print(odd_sum, even_sum)"
   ]
  },
  {
   "cell_type": "code",
   "execution_count": null,
   "metadata": {},
   "outputs": [],
   "source": [
    "#4\n",
    "for i in range(1,6):\n",
    "    for j in range(1,5):\n",
    "        print(\"*\", end=\"\")\n",
    "    print(\"\")"
   ]
  },
  {
   "cell_type": "code",
   "execution_count": null,
   "metadata": {},
   "outputs": [],
   "source": [
    "#5\n",
    "for i in range(1,6):\n",
    "    for k in range(1, i+1):\n",
    "        print(\"*\", end=\"\")\n",
    "    print(\"\")"
   ]
  },
  {
   "cell_type": "code",
   "execution_count": null,
   "metadata": {},
   "outputs": [],
   "source": [
    "#6\n",
    "for i in range(1,6):\n",
    "    for k in range(1,6-i):\n",
    "        print(\" \",end=\"\")\n",
    "    for j in range(1,i+1):\n",
    "        print(\"*\", end=\"\")\n",
    "    print(\"\")"
   ]
  },
  {
   "cell_type": "code",
   "execution_count": null,
   "metadata": {},
   "outputs": [],
   "source": [
    "#7\n",
    "\n",
    "for i in range(1,6):\n",
    "    for k in range(1,6-i):\n",
    "        print(\" \", end=\"\")\n",
    "    for j in range(1, i+1):\n",
    "        print(\"*\", end=\"\")\n",
    "    for m in range(1, i):\n",
    "        print(\"*\", end=\"\")\n",
    "    print(\"\")"
   ]
  },
  {
   "cell_type": "code",
   "execution_count": null,
   "metadata": {},
   "outputs": [],
   "source": [
    "#8\n",
    "SUM=0\n",
    "n=None\n",
    "while n!=0:\n",
    "    n = int(input(\"정수 : \"))\n",
    "    SUM+=n\n",
    "print(\"합 : {}\".format(SUM))"
   ]
  },
  {
   "cell_type": "code",
   "execution_count": null,
   "metadata": {},
   "outputs": [],
   "source": [
    "#9\n",
    "a=1\n",
    "count=0\n",
    "while(a<100000):\n",
    "    a*=2\n",
    "    count+=1\n",
    "    print(\"{} 번 접으면 {} mm\".format(count, a))\n",
    "print(\"횟수 : {} 두께 : {}\".format(count, a))"
   ]
  }
 ],
 "metadata": {
  "kernelspec": {
   "display_name": "Python 3",
   "language": "python",
   "name": "python3"
  },
  "language_info": {
   "codemirror_mode": {
    "name": "ipython",
    "version": 3
   },
   "file_extension": ".py",
   "mimetype": "text/x-python",
   "name": "python",
   "nbconvert_exporter": "python",
   "pygments_lexer": "ipython3",
   "version": "3.6.7"
  }
 },
 "nbformat": 4,
 "nbformat_minor": 2
}
