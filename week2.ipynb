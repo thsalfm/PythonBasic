{
 "cells": [
  {
   "cell_type": "code",
   "execution_count": null,
   "metadata": {},
   "outputs": [],
   "source": [
    "실습 1. python을 이용해서 다음 출력을 만드세요.\n",
    " \n",
    "        과목명 : 컴퓨팅사고 \n",
    "        학과 : \n",
    "        학번 : 2019XXXX\n",
    "        이름 : 홍길동"
   ]
  },
  {
   "cell_type": "code",
   "execution_count": 1,
   "metadata": {},
   "outputs": [
    {
     "name": "stdout",
     "output_type": "stream",
     "text": [
      "과목명 : 컴퓨팅사고\n",
      "학과 : 데이터과학융합스쿨학과\n",
      "학번 : 20193225\n",
      "이름 : 손미르\n"
     ]
    }
   ],
   "source": [
    "print(\"과목명\",\":\",\"컴퓨팅사고\")\n",
    "print(\"학과\",\":\",\"데이터과학융합스쿨학과\")\n",
    "print(\"학번\",\":\",\"20193225\")\n",
    "print(\"이름\",\":\",\"손미르\")"
   ]
  },
  {
   "cell_type": "code",
   "execution_count": null,
   "metadata": {},
   "outputs": [],
   "source": [
    "실습 2. 반지름이 5인 원에 대해 다음의 공식을 이용해 값을 계산해서 출력하세요."
   ]
  },
  {
   "cell_type": "code",
   "execution_count": 2,
   "metadata": {},
   "outputs": [
    {
     "name": "stdout",
     "output_type": "stream",
     "text": [
      "원의 넓이는 S(원의면적)=  78.5\n",
      "원의 둘레는 ㅣ(원의둘레)=  31.400000000000002\n",
      "구의 부피는 V(구의 부피)=  523.3333333333334\n",
      "구의 겉넓이는 S(구의 겉넓이)=  314.0\n"
     ]
    }
   ],
   "source": [
    "print(\"원의 넓이는\",\"S(원의면적)= \",3.14*5**2)\n",
    "print(\"원의 둘레는\",\"ㅣ(원의둘레)= \",2*3.14*5)\n",
    "print(\"구의 부피는\",\"V(구의 부피)= \",4/3*3.14*5**3)\n",
    "print(\"구의 겉넓이는\",\"S(구의 겉넓이)= \",4*3.14*5**2)"
   ]
  },
  {
   "cell_type": "code",
   "execution_count": null,
   "metadata": {},
   "outputs": [],
   "source": [
    "실습 3. turtle grahpic을 이용해서 다음을 그려보세요 "
   ]
  },
  {
   "cell_type": "code",
   "execution_count": null,
   "metadata": {},
   "outputs": [],
   "source": [
    "import turtle\n",
    "turtle.shape(\"classic\")\n",
    "turtle.forward(100)\n",
    "turtle.right(144)\n",
    "turtle.forward(100)\n",
    "turtle.right(144)\n",
    "turtle.forward(100)\n",
    "turtle.right(144)\n",
    "turtle.forward(100)\n",
    "turtle.right(144)\n",
    "turtle.forward(100)\n",
    "turtle.right(144)"
   ]
  },
  {
   "cell_type": "code",
   "execution_count": null,
   "metadata": {},
   "outputs": [],
   "source": [
    "turtle.up()\n",
    "turtle.forward(200)\n",
    "turtle.down()\n",
    "turtle.forward(100)\n",
    "turtle.right(60)\n",
    "turtle.forward(100)\n",
    "turtle.right(60)\n",
    "turtle.forward(100)\n",
    "turtle.right(60)\n",
    "turtle.forward(100)\n",
    "turtle.right(60)\n",
    "turtle.forward(100)\n",
    "turtle.right(60)\n",
    "turtle.forward(100)\n",
    "turtle.right(60)"
   ]
  }
 ],
 "metadata": {
  "kernelspec": {
   "display_name": "Python 3",
   "language": "python",
   "name": "python3"
  },
  "language_info": {
   "codemirror_mode": {
    "name": "ipython",
    "version": 3
   },
   "file_extension": ".py",
   "mimetype": "text/x-python",
   "name": "python",
   "nbconvert_exporter": "python",
   "pygments_lexer": "ipython3",
   "version": "3.6.7"
  }
 },
 "nbformat": 4,
 "nbformat_minor": 2
}
