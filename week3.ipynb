{
 "cells": [
  {
   "cell_type": "code",
   "execution_count": null,
   "metadata": {},
   "outputs": [],
   "source": [
    "실습 1. 다음의 프로그램을 작성하세요. ( 주석은 라인별로 꼭 작성 )\n",
    "\n",
    "    - 변수 value1과 value2에 각각 1과 3을 대입\n",
    "    - 두 변수의 값을 print 함수로 다음과 같이 출력    //   value1 = 1 , value2 = 3 \n",
    "    - 변수 temp를 이용해 value1과 value2의 값을 바꾸세요.\n",
    "    - 두 변수의 값을 print 함수로 출력    //   value1 = 3 , value2 = 1 \n",
    " \n",
    "    ( 두 변수의 값을 교환하는 것을 swap이라고 함 )"
   ]
  },
  {
   "cell_type": "code",
   "execution_count": 1,
   "metadata": {},
   "outputs": [
    {
     "name": "stdout",
     "output_type": "stream",
     "text": [
      "value1= 1 value2= 3\n"
     ]
    }
   ],
   "source": [
    "#변수 value1과 value2에 각각 1과 3을 대입\n",
    "\n",
    "#두 변수의 값을 print 함수로 다음과 같이 출력\n",
    "\n",
    "value1=1\n",
    "\n",
    "value2=3\n",
    "\n",
    "print(\"value1=\",value1, \"value2=\",value2)"
   ]
  },
  {
   "cell_type": "code",
   "execution_count": 3,
   "metadata": {},
   "outputs": [
    {
     "name": "stdout",
     "output_type": "stream",
     "text": [
      "value1= 1 value2= 3\n"
     ]
    }
   ],
   "source": [
    "#변수 temp를 이용해 value1과 value2의 값을 바꾸세요\n",
    "\n",
    "#두 변수의 값을 print 함수로 출력\n",
    "\n",
    "temp=value1\n",
    "\n",
    "value1=value2\n",
    "\n",
    "value2=temp\n",
    "\n",
    "print(\"value1=\",value1, \"value2=\",value2)"
   ]
  },
  {
   "cell_type": "code",
   "execution_count": null,
   "metadata": {},
   "outputs": [],
   "source": [
    "실습 2. 키보드로부터 학과 학번 이름을 각각 입력받아 출력하는 프로그램을 작성하세요.\n",
    "학번을 입력하세요 :  2018xxxx\n",
    "  학과를 입력하세요 :  --------\n",
    "  이름을 입력하세요 : 홍길동\n",
    "\n",
    "  학생정보 : 학번( 2018xxxx ) 학과( -------- ) 이름( 홍길동 )"
   ]
  },
  {
   "cell_type": "code",
   "execution_count": 4,
   "metadata": {},
   "outputs": [
    {
     "name": "stdout",
     "output_type": "stream",
     "text": [
      "학번을 입력하세요:20193225\n",
      "201920193225\n",
      "학과을 입력하세요:데이터과학융합스쿨\n",
      "데이터과학융합스쿨융합스쿨\n",
      "이름을 입력하세요:손미르\n",
      "손미르\n",
      "학생정보:학번 ( 201920193225 ) 학과 ( 데이터과학융합스쿨 융합스쿨) 이름( 손미르 ) \n"
     ]
    }
   ],
   "source": [
    "#print(\"학번을 입력하세요:\",end=\"\")\n",
    "\n",
    "sno=input(\"학번을 입력하세요:\") #학번을입력하세요\n",
    "\n",
    "print(\"2019\"+sno)\n",
    "\n",
    "dept=input(\"학과을 입력하세요:\") #학과를입력하세요\n",
    "print(dept+ \"융합스쿨\")\n",
    "\n",
    "name=input(\"이름을 입력하세요:\") #이름을 입력하세요\n",
    "\n",
    "print(name)\n",
    "\n",
    "print( \"학생정보:학번 ( \"\"2019\"+sno,\") 학과 (\",dept,\"융합스쿨) 이름(\",name,\") \")"
   ]
  },
  {
   "cell_type": "code",
   "execution_count": null,
   "metadata": {},
   "outputs": [],
   "source": [
    "실습 3.\n",
    "사용자로부터 반지름을 입력 받아 다음을 계산해서 출력하는 프로그램을 작성하세요. \n",
    "( 식이 아닌 계산 값을 변수에 저장하고 변수값을 출력 )\n",
    "원의 반지름(r)을 입력하세요 :  5\n",
    "    원의 넓이는  \n",
    "    원의 둘레는 \n",
    "    구의 부피는 \n",
    "    구의 겉넓이는 "
   ]
  },
  {
   "cell_type": "code",
   "execution_count": 5,
   "metadata": {},
   "outputs": [
    {
     "name": "stdout",
     "output_type": "stream",
     "text": [
      "원의 반지름(r)을 입력하세요:5\n",
      "원의 넓이는 S(원의면적)= 78.5\n",
      "원의 둘레는 l(원의둘레)= 31.400000000000002\n",
      "구의 부피는 V(구의부피)= 523.3333333333334\n",
      "구의 겉넓이는 S(구의 겉넓이)= 314.0\n"
     ]
    }
   ],
   "source": [
    "r=int(input(\"원의 반지름(r)을 입력하세요:\")) #원의 반지름 입력하기\n",
    "print(\"원의 넓이는 S(원의면적)=\",3.14*r**2) #원의 넓이 구하기\n",
    "print(\"원의 둘레는 l(원의둘레)=\",2*3.14*r) #원의 둘레 구하기\n",
    "print(\"구의 부피는 V(구의부피)=\",4/3*3.14*r**3) #구의 부피구하기\n",
    "print(\"구의 겉넓이는 S(구의 겉넓이)=\",4*3.14*r**2) #구의 겉넓이 구하기"
   ]
  },
  {
   "cell_type": "code",
   "execution_count": null,
   "metadata": {},
   "outputs": [],
   "source": [
    "실습 4. turtle grahpic을 이용해서 다음을 그려보세요 \n",
    "  \n",
    "반지름 입력 : 50"
   ]
  },
  {
   "cell_type": "code",
   "execution_count": 6,
   "metadata": {},
   "outputs": [],
   "source": [
    "import turtle as t #거북이프로그램 실행시키기\n",
    "t.shape(\"turtle\")\n",
    "t.circle(50) #반지름이 50인 원 그리기\n",
    "t.circle(50, steps=4) #반지름이 50인 원에 내접하는 마름모그리기"
   ]
  }
 ],
 "metadata": {
  "kernelspec": {
   "display_name": "Python 3",
   "language": "python",
   "name": "python3"
  },
  "language_info": {
   "codemirror_mode": {
    "name": "ipython",
    "version": 3
   },
   "file_extension": ".py",
   "mimetype": "text/x-python",
   "name": "python",
   "nbconvert_exporter": "python",
   "pygments_lexer": "ipython3",
   "version": "3.6.7"
  }
 },
 "nbformat": 4,
 "nbformat_minor": 2
}
