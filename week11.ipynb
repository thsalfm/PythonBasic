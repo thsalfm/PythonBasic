{
 "cells": [
  {
   "cell_type": "code",
   "execution_count": null,
   "metadata": {},
   "outputs": [],
   "source": [
    "실습 1) 본인의 학과,학번,이름을 출력하는 print_info() 함수를 선언하고 \n",
    "함수를 호출 실행해 보세요. \n",
    "\n",
    "실행 결과->\n",
    "\n",
    "학과 : 컴퓨터공학\n",
    "\n",
    "학번 : 20181111\n",
    "이름 : 홍길동"
   ]
  },
  {
   "cell_type": "code",
   "execution_count": null,
   "metadata": {},
   "outputs": [],
   "source": [
    "def print_info():                       #함수정의하기\n",
    "    print(\"학과 : 데이터과학융합스쿨\")  #학과\n",
    "    print(\"학번 : 20193225\")            #학번\n",
    "    print(\"이름 : 손미르\")              #이름\n",
    "\n",
    "print_info()                            #함수호출하기"
   ]
  },
  {
   "cell_type": "code",
   "execution_count": null,
   "metadata": {},
   "outputs": [],
   "source": [
    "실습 2) 정수 두 개와 연산기호( “+” , “-” , “*” , “/”)를 입력받아 \n",
    "정수 계산을 하는 calc(num1 , num2 , act=“+”) 함수를 선언하세요.  \n",
    "act는 기본값이 “+”로 설정되고 act에 “+” , “-” , “*” , “/” . \n",
    "전달 되면 각 연산기호에 따라 연산 후 결과를 출력하시오. \n",
    "\n",
    "실행 결과 : \n",
    "\n",
    "첫 번째 정수를 입력하세요 : 10\n",
    "두 번째 정수를 입력하세요 : 20\n",
    "연산기호를 입력하세요 ( + , - , * , / ) :  +\n",
    "두 정수에 대한 연산 10 + 20 의 결과는 30입니다. "
   ]
  },
  {
   "cell_type": "code",
   "execution_count": null,
   "metadata": {},
   "outputs": [],
   "source": [
    "def calc(num1,num2,act=\"+\"):       #함수정의하기\n",
    "    if act==\"+\":\n",
    "        result = num1 + num2\n",
    "    elif act == \"-\":\n",
    "        result = num1 - num2\n",
    "    elif act == \"*\":\n",
    "        result = num1 * num2\n",
    "    else:\n",
    "        result = num1 / num2\n",
    "\n",
    "    print(\"두 정수에 대한 연산 {} {} {} 의 결과는 {}입니다.\".format(num1,act,num2,result))\n",
    "\n",
    "n1 = int(input(\"첫 번째 정수를 입력하세요 : \"))\n",
    "n2 = int(input(\"두 번째 정수를 입력하세요 : \"))\n",
    "n3 = input(\"연산기호를 입력하세요 : \")\n",
    "\n",
    "calc(n1,n2,n3)        #함수호출하기"
   ]
  },
  {
   "cell_type": "code",
   "execution_count": null,
   "metadata": {},
   "outputs": [],
   "source": [
    "실습 3) 펙토리얼을 구하는 함수 factorial( num ) 함수를 선언하고 \n",
    "사용자로부터 정수 n 값을 입력받아서 factorial 함수를 통해 n!를 결과를 리턴 받아 \n",
    "출력하는 프로그램을 작성하세요. \n",
    "\n",
    "실행 결과 :\n",
    "\n",
    "n factorial 값을 구하기 위한 정수 n을 입력하세요 : 5\n",
    "5! = 125"
   ]
  },
  {
   "cell_type": "code",
   "execution_count": null,
   "metadata": {},
   "outputs": [],
   "source": [
    "def factorial(num):      #함수정의하기\n",
    "    result = 1\n",
    "    for i in range(num,0,-1):\n",
    "        result*=i\n",
    "        \n",
    "    return result\n",
    "\n",
    "a = factorial(5)\n",
    "print(a)"
   ]
  },
  {
   "cell_type": "code",
   "execution_count": null,
   "metadata": {},
   "outputs": [],
   "source": [
    "실습 4) 사용자로부터 키와 몸무게를 입력받아 비만도를 계산 calcBmi(height,weight) 후 \n",
    "비만정도를 출력하는 프로그램을 작성하세요. \n",
    "\n",
    "표준체중 = ( 키 - 100 ) * 0.9\n",
    "비만도 = (몸무게-표준체중) / 표준체중 * 100\n",
    "비만도 : -20 미만 -> 저체중\n",
    "비만도 : 20 미만 -> 정상\n",
    "비만도 : 20~30 ->경도비만\n",
    "비만도 : 30~50 -> 중등도 비만\n",
    "비만도 : 50 이상 -> 고도비만\n",
    "\n",
    "실행 결과 :\n",
    "\n",
    "비만도를 계산합니다.\n",
    "키를 입력하세요 : 170\n",
    "몸무게를 입력하세요 : 63\n",
    "비만정도는 정상입니다. \n"
   ]
  },
  {
   "cell_type": "code",
   "execution_count": null,
   "metadata": {},
   "outputs": [],
   "source": [
    "def calcBmi(height, weight):  #함수정의하기\n",
    "    kg =  (height-100)*0.9\n",
    "    bmi = (weight-kg)/kg*100\n",
    "    \n",
    "    if bmi<-20:\n",
    "        result=\"저체중\"\n",
    "    elif bmi<20:\n",
    "        result=\"정상\"\n",
    "    elif bmi>=20 and bmi<30:\n",
    "        result=\"경도비만\"\n",
    "    elif bmi>=30 and bmi<50:\n",
    "        result=\"중등도 비만\"\n",
    "    elif bmi>=50:\n",
    "        result=\"고도비만\"\n",
    "    \n",
    "    print(\"비만정도는 {} 입니다\".format(result))\n",
    "\n",
    "print(\"비만도를 계산합니다.\")\n",
    "h=int(input(\"키를 입력하세요 : \"))\n",
    "w=int(input(\"몸무게를 입력하세요 : \"))\n",
    "\n",
    "calcBmi(h, w)    #함수호출하기\n"
   ]
  },
  {
   "cell_type": "code",
   "execution_count": null,
   "metadata": {},
   "outputs": [],
   "source": [
    "5) 사용자로부터 원뿔의 높이(h)와 반지름(r)을 입력받아 원뿔의 부피(V)를 계산하고 \n",
    "출력하는 프로그램을 작성하시오. \n",
    "이때 함수의 구성은 부피 구하는 함수(getVolume) 출력함수 (printResult)로 작성하시오."
   ]
  },
  {
   "cell_type": "code",
   "execution_count": null,
   "metadata": {},
   "outputs": [],
   "source": [
    "import math\n",
    "def getVolume(h, r):    # 부피를 계산하여 부피 값을 반환하는 함수 정의\n",
    "    v = 1/3*math.pi*r**2*h\n",
    "    return v\n",
    "\n",
    "def printResult(v):   # 매개변수로 받은 부피 값을 출력하는 함수 정의\n",
    "    print(v)  \n",
    "\n",
    "height = int(input(\"원뿔의 높이를 입력 : \"))  # 높이를 사용자로 부터 입력받기\n",
    "radius = int(input(\"반지름을 입력 : \"))      # 반지름을 사용자로 부터 입력받기\n",
    "\n",
    "\n",
    "volume = getVolume(height, radius) # 사용자로 부터 입력받은 값들을 getVolume 함수의 인자로 넣고 호출한다.\n",
    "\n",
    "printResult(volume)  # 인자에 부피값을 넣고 함수를 호출하여 결과를 출력한다."
   ]
  }
 ],
 "metadata": {
  "kernelspec": {
   "display_name": "Python 3",
   "language": "python",
   "name": "python3"
  },
  "language_info": {
   "codemirror_mode": {
    "name": "ipython",
    "version": 3
   },
   "file_extension": ".py",
   "mimetype": "text/x-python",
   "name": "python",
   "nbconvert_exporter": "python",
   "pygments_lexer": "ipython3",
   "version": "3.6.7"
  }
 },
 "nbformat": 4,
 "nbformat_minor": 2
}
