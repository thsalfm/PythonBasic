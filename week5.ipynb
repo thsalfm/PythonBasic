{
 "cells": [
  {
   "cell_type": "code",
   "execution_count": null,
   "metadata": {},
   "outputs": [],
   "source": [
    "실습 1. 다음의 계산을 출력하는 프로그램을 작성하세요."
   ]
  },
  {
   "cell_type": "code",
   "execution_count": null,
   "metadata": {},
   "outputs": [],
   "source": [
    "print(4-2/3 , (1+2)/(2+4) , (3*2)/(4-2/3), sep=\"  /   \")"
   ]
  },
  {
   "cell_type": "code",
   "execution_count": null,
   "metadata": {},
   "outputs": [],
   "source": [
    "실습 2. 다음의 프로그램을 작성하세요. ( 주석은 라인별로 꼭 작성 )\n",
    "키보드로부터 두 정수를 입력받아 inputValue1 과 inputValue2 변수에 저장하고 \n",
    "두 값의 합 , 차 , 곱 그리고 inputValue1을 inputValue2로 나눈 몫에 해당하는 \n",
    "정수 결과와 나머지를 출력하세요.\n",
    "\n",
    "첫 번째 정수 값을 입력하세요 : 24\n",
    "두 번째 정수 값을 입력하세요: 3\n",
    "\n",
    "입력된 두 정수 24 와 3에 대한 연산결과\n",
    "24 +  3 = 27\n",
    "24 – 3 = 21\n",
    "24 * 3 = 72\n",
    "24 // 3 = 8\n",
    "24 % 3 = 0 "
   ]
  },
  {
   "cell_type": "code",
   "execution_count": null,
   "metadata": {},
   "outputs": [],
   "source": [
    "inputValue1 = int(input('첫 번째 정수 값을 입력하세요 : '))  # 첫 번째 정수 값을 입력하세요 \n",
    "inputValue2 = int(input('두 번째 정수 값을 입력하세요 : '))  # 두 번째 정수 값을 입력하세요\n",
    "print( inputValue1 + inputValue2)\n",
    "print( inputValue1 - inputValue2)\n",
    "print( inputValue1 * inputValue2)\n",
    "print( inputValue1 // inputValue2)\n",
    "print( inputValue1 % inputValue2)\n"
   ]
  },
  {
   "cell_type": "code",
   "execution_count": null,
   "metadata": {},
   "outputs": [],
   "source": [
    "실습 3. 키보드로부터 정수형 상수인 금액을 입력받아서 \n",
    "최소한의 동전으로 환전한 결과를 출력하세요.\n",
    "\n",
    "금액을 입력 하세요 : 2430\n",
    "500원 : 4 개\n",
    "100원 : 4 개\n",
    "50원 : 0 개\n",
    "10원 : 3 개"
   ]
  },
  {
   "cell_type": "code",
   "execution_count": null,
   "metadata": {},
   "outputs": [],
   "source": [
    "x = int(input(\"금액을 입력 하세요 : \"))\n",
    "x500 = x//500\n",
    "x100 = x%500\n",
    "x100 = x100//100\n",
    "x50 = x100%100\n",
    "x50 = x50//50\n",
    "x10 = x50%50\n",
    "x10 = x10//10\n",
    "print(\"500원 :\", x500, \"개\", \"100원 :\", x100, \"개\", \"50원 :\", x50, \"개\", \"10원 :\", x10, \"개\")"
   ]
  },
  {
   "cell_type": "code",
   "execution_count": null,
   "metadata": {},
   "outputs": [],
   "source": [
    "실습 4. 키보드로부터 원뿔의 높이(h)와 반지름(r)을 입력받아 \n",
    "원뿔의 부피(V)를 계산하고 출력하는 프로그램을 작성하세오. \n",
    "부피의 계산식은 다음과 같다.\n"
   ]
  },
  {
   "cell_type": "code",
   "execution_count": null,
   "metadata": {},
   "outputs": [],
   "source": [
    "r = int(input(\"반지름을 입력하세요 : \"))\n",
    "h = int(input(\"높이를 입력하세요 : \"))\n",
    "\n",
    "print(1/3*3.14*r**2*h)"
   ]
  },
  {
   "cell_type": "code",
   "execution_count": null,
   "metadata": {},
   "outputs": [],
   "source": [
    "실습 5. 두 점 사이의 거리는 피타고라스의 정리를 사용하여 구할 수 있다.\n",
    "키보드로부터 두 좌표 x1 , y1 , x2 , y2 를 정수로 입력받아 \n",
    "두 점사이의 거리를 출력하는 프로그램을 작성하세요.\n",
    "\n",
    "math.pow(a,b)   : a의 b승\n",
    "math.sqrt(x)    : x의 제곱근"
   ]
  },
  {
   "cell_type": "code",
   "execution_count": null,
   "metadata": {},
   "outputs": [],
   "source": [
    "import math \n",
    "x1 = int(input(\"x1 입력 >>\"))\n",
    "y1 = int(input(\"y1 입력 >>\"))\n",
    "x2 = int(input(\"x2 입력 >>\"))\n",
    "y2 = int(input(\"y2 입력 >>\"))\n",
    "\n",
    "distance = math.sqrt(math.pow(x1-x2,2) + math.pow(y1-y2,2))\n",
    "print(\"두 점 사이의 거리\" , distance)"
   ]
  }
 ],
 "metadata": {
  "kernelspec": {
   "display_name": "Python 3",
   "language": "python",
   "name": "python3"
  },
  "language_info": {
   "codemirror_mode": {
    "name": "ipython",
    "version": 3
   },
   "file_extension": ".py",
   "mimetype": "text/x-python",
   "name": "python",
   "nbconvert_exporter": "python",
   "pygments_lexer": "ipython3",
   "version": "3.6.7"
  }
 },
 "nbformat": 4,
 "nbformat_minor": 2
}
