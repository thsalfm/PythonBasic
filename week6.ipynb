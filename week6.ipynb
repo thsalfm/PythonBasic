{
 "cells": [
  {
   "cell_type": "code",
   "execution_count": null,
   "metadata": {},
   "outputs": [],
   "source": [
    "#실습1\n",
    "\n",
    "num=5\n",
    "if num /2 ==0:\n",
    "    print('짝수')\n",
    "else:\n",
    "    print('홀수')"
   ]
  },
  {
   "cell_type": "code",
   "execution_count": null,
   "metadata": {},
   "outputs": [],
   "source": [
    "#실습2\n",
    "    \n",
    "num=5\n",
    "if num %2 ==0 and num %3 ==0:\n",
    "    print('나누어짐')\n",
    "\n",
    "else:\n",
    "    print('나누어지지않음')"
   ]
  },
  {
   "cell_type": "code",
   "execution_count": null,
   "metadata": {},
   "outputs": [],
   "source": [
    "#실습3\n",
    "\n",
    "a= int(input(\"첫번째 정수를 입력:\"))\n",
    "b= int(input(\"두번째 정수를 입력:\"))\n",
    "c= input(\"연산 입력:\")\n",
    "\n",
    "if c== '+':\n",
    "    print(a+b)\n",
    "elif c== '-':\n",
    "     print(a-b)\n",
    "elif c== '/':\n",
    "     print(a/b)\n",
    "elif c== '*':\n",
    "     print(a*b)\n",
    "else:\n",
    "     print('연산기호가 잘못됐습니다')"
   ]
  },
  {
   "cell_type": "code",
   "execution_count": null,
   "metadata": {},
   "outputs": [],
   "source": [
    "ph= int(input('이온지수:'))\n",
    "if ph >=0 and ph <=4:\n",
    "    print('강산성')\n",
    "elif ph <=6:\n",
    "    print('약산성')\n",
    "\n",
    "elif ph <=7:\n",
    "    print('중성')\n",
    "\n",
    "elif ph <=9:\n",
    "    print('약염기성')\n",
    "\n",
    "else:\n",
    "    print('강염기성')"
   ]
  },
  {
   "cell_type": "code",
   "execution_count": null,
   "metadata": {},
   "outputs": [],
   "source": [
    "#실습 5\n",
    "\n",
    "num= 2018\n",
    "if num %4 ==0 and num % 100 ==0 :\n",
    "    print('윤년')\n",
    "\n",
    "elif num% 100==0 and num%400 ==not0 :\n",
    "    print('윤년')\n",
    "\n",
    "else :\n",
    "    print('평년')"
   ]
  },
  {
   "cell_type": "code",
   "execution_count": null,
   "metadata": {},
   "outputs": [],
   "source": [
    "#실습6\n",
    "    \n",
    "cm=int(input('키(cm):'))\n",
    "kg=int(input('몸무게(kg):'))\n",
    "BMI=(kg/((cm*0.01)**2))\n",
    "\n",
    "if BMI <18.5:\n",
    "     print('저체중')\n",
    "     \n",
    "elif BMI<23:\n",
    "     print('정상')\n",
    "\n",
    "elif  BMI<25:\n",
    "     print('과체중')\n",
    "     \n",
    "elif   BMI<30:\n",
    "     print('경도비만')\n",
    "\n",
    "elif  BMI<35:\n",
    "     print('중등도비만')\n",
    "\n",
    "else:\n",
    "     print('고도비만')"
   ]
  }
 ],
 "metadata": {
  "kernelspec": {
   "display_name": "Python 3",
   "language": "python",
   "name": "python3"
  },
  "language_info": {
   "codemirror_mode": {
    "name": "ipython",
    "version": 3
   },
   "file_extension": ".py",
   "mimetype": "text/x-python",
   "name": "python",
   "nbconvert_exporter": "python",
   "pygments_lexer": "ipython3",
   "version": "3.6.7"
  }
 },
 "nbformat": 4,
 "nbformat_minor": 2
}
