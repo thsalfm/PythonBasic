{
 "cells": [
  {
   "cell_type": "code",
   "execution_count": 1,
   "metadata": {},
   "outputs": [
    {
     "name": "stdout",
     "output_type": "stream",
     "text": [
      "[1, 2, 3, 4, 5, 6, 7, 8, 9, 10]\n",
      "[1, 2, 3, 4, 5, 6, 7, 8, 9, 10]\n"
     ]
    }
   ],
   "source": [
    "#실습 1) 다음과 같은 1차원 리스트 a를 리스트 b 로 복사하는 프로그램을 작성하세요.\n",
    "#1-1\n",
    "a=[1,2,3,4,5,6,7,8,9,10]\n",
    "b=[]\n",
    "b=a\n",
    "print(b)\n",
    "\n",
    "#1-2\n",
    "a=[1,2,3,4,5,6,7,8,9,10]\n",
    "b=[]\n",
    "\n",
    "for i in range(10):\n",
    "    b.append(a[i])\n",
    "    \n",
    "print(b)"
   ]
  },
  {
   "cell_type": "code",
   "execution_count": null,
   "metadata": {},
   "outputs": [],
   "source": [
    "#실습 2) 다음과 같은 1차원 리스트 a에서 최대값을 구하는 프로그램을 작성하세요.\n",
    "#2-1\n",
    "a = [91,90,78,35,65,9,97,54,62,90 ]\n",
    "print(max(a))\n",
    "\n",
    "#2-2\n",
    "def getMax(lst):\n",
    "    max = -1000\n",
    "    for i in lst:\n",
    "        if max < i:\n",
    "            max = i\n",
    "    return max\n",
    "list = [91,90,78,35,65,9,97,54,62,90]\n",
    "max = getMax(list)\n",
    "print(max)"
   ]
  },
  {
   "cell_type": "code",
   "execution_count": null,
   "metadata": {},
   "outputs": [],
   "source": [
    "#실습 3) 다음과 같은 1차원 리스트 a에서 입력받은 정수를 찾는 프로그램을 작성하세요. 이때 순차 검색 알고리즘을 사용하세요.\n",
    "\n",
    "a = [ 4,3,1,2,5,6,8,9,7,10 ]\n",
    "target = int(input(\"찾을 정수를 입력 >> \"))\n",
    "idx=0\n",
    "for i in a:\n",
    "    if target==i:\n",
    "        break\n",
    "    idx+=1\n",
    "print(\"{}의 위치는 {}입니다.\".format(target,idx))"
   ]
  },
  {
   "cell_type": "code",
   "execution_count": null,
   "metadata": {},
   "outputs": [],
   "source": [
    "#실습 4) 리스트의 값들을 작은순서대로 정렬하는 프로그램을 작성하시오.\n",
    "        #선택정렬은 정렬할 대상의 원소들 중에서 가장 작은 값을 가진 원소를 찾아서\n",
    "        #그 원소를 맨 앞에 위치한 원소부터 교체하는 것을 반복적으로 진행하는 단순한 정렬 알고리즘이다."
   ]
  },
  {
   "cell_type": "code",
   "execution_count": null,
   "metadata": {},
   "outputs": [],
   "source": [
    "def swap(a,b):\n",
    "    print(a,b)\n",
    "    return b,a\n",
    "\n",
    "a = [ 4,3,1,2,5,6,8,9,7,10 ]\n",
    "print(\"정렬 전 \",a)\n",
    "cnt=0\n",
    "for i in range(len(a)):\n",
    "    MIN = a[i]\n",
    "    for j in range(i,len(a)):\n",
    "        if a[j]<=MIN:\n",
    "            idx=j\n",
    "            MIN = a[j]\n",
    "    a[idx], a[cnt] = swap(a[idx], a[cnt])\n",
    "    cnt+=1\n",
    "print(\"정렬 후 \",a)"
   ]
  },
  {
   "cell_type": "code",
   "execution_count": null,
   "metadata": {},
   "outputs": [],
   "source": [
    "#실습 5) 딕셔너리 저장 구조를 이용해 사용자로부터 영단어와 뜻을 입력받아 사전을 구성하고 사용자가 입력한 단어를 뜻으로 출력하는 프로그램을 작성하세요."
   ]
  },
  {
   "cell_type": "code",
   "execution_count": null,
   "metadata": {},
   "outputs": [],
   "source": [
    "dictionary = dict()\n",
    "while True:\n",
    "    word = input(\"단어입력(종료는 exit) : \")\n",
    "    if word==\"exit\":\n",
    "        break\n",
    "    mean = input(\"{}의 뜻 입력 : \".format(word))\n",
    "    dictionary[word] = mean\n",
    "\n",
    "while True:\n",
    "    word = input(\"단어를 입력하세요(종료는 exit) : \")\n",
    "    if word == \"exit\":\n",
    "        break;\n",
    "    print(\"{}는 {}입니다.\".format(word, dictionary[word]))"
   ]
  },
  {
   "cell_type": "raw",
   "metadata": {},
   "source": [
    "#실습 6) 터틀그래픽\n",
    "import turtle\n",
    "import random\n",
    "from tkinter.simpledialog import*\n",
    "\n",
    "# 전역 변수 선언 부분 #\n",
    "instr=\"\"\n",
    "swidth,sheight=300,300\n",
    "tX, tY, txtSize =[0]*3\n",
    "\n",
    "## 메인 코드 부분 ##\n",
    "turtle.title('거북이 글자쓰기')\n",
    "turtle.shape('turtle')\n",
    "turtle.setup(width=swidth+50, height=sheight+50)\n",
    "turtle.screensize(swidth,sheight)\n",
    "turtle.penup()\n",
    "\n",
    "inStr=askstring('문자열 입력', '거북이 쓸 문자열을 입력')\n",
    "\n",
    "for ch in inStr:\n",
    "\n",
    "    tX=random.randrange(-swidth/2, swidth/2)\n",
    "    tY=random.randrange(-sheight/2,sheight/2)\n",
    "    r=random.random(); g=random.random(); b=random.random()\n",
    "    txtSize=random.randrange(10,50)\n",
    "\n",
    "    turtle.goto(tX,tY)\n",
    "    turtle.pencolor((r,g,b))\n",
    "    turtle.write(ch,font=('맑은고딕',txtSize,'bold'))\n",
    "\n",
    "\n",
    "turtle.done()"
   ]
  }
 ],
 "metadata": {
  "kernelspec": {
   "display_name": "Python 3",
   "language": "python",
   "name": "python3"
  },
  "language_info": {
   "codemirror_mode": {
    "name": "ipython",
    "version": 3
   },
   "file_extension": ".py",
   "mimetype": "text/x-python",
   "name": "python",
   "nbconvert_exporter": "python",
   "pygments_lexer": "ipython3",
   "version": "3.6.7"
  }
 },
 "nbformat": 4,
 "nbformat_minor": 2
}
